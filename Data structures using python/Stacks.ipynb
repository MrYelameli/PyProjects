{
 "cells": [
  {
   "cell_type": "markdown",
   "metadata": {},
   "source": [
    "# Stacks\n",
    "## Read the blog for explanation https://inailabs.com/https-inailabs-com-category-py-py-ds-stacks/ \n"
   ]
  },
  {
   "cell_type": "code",
   "execution_count": null,
   "metadata": {},
   "outputs": [],
   "source": [
    "# create a class where define operations of stack in individual methods. \n",
    "class Stack:                  \n",
    "    \n",
    "    # it is constructor, an empty list or say (stack) is created as soon as the object the class is created\n",
    "    def __init__(self):\n",
    "        self.elements=[]\n",
    "    \n",
    "    # This is class method to check whether the class is empty or not\n",
    "    def checkEmpty(self):\n",
    "        return self.elements==[]\n",
    "    \n",
    "    # This is a push method to insert an element in the stack or say list\n",
    "    def push(self,elements):\n",
    "        self.elements.append(elements)\n",
    "    \n",
    "    # This is a pop method to pop the elements from stack  \n",
    "    def pop(self):\n",
    "        return self.elements.pop()\n",
    "    \n",
    "    # This is method to show the top element in the stack\n",
    "    def showTopElement(self):\n",
    "        return self.elements[len(self.elements)-1]\n",
    "    \n",
    "    # This method returns the size of the stack\n",
    "    def size(self):\n",
    "        return len(self.elements)\n",
    "\n",
    "#create an object of a class\n",
    "obj1=Stack()\n",
    "\n",
    "# now check the whether the stack is emtpy? \n",
    "print('Is stack empty? : {} '.format(obj1.checkEmpty()))\n",
    "\n",
    "#push the first element\n",
    "obj1.push(1)\n",
    "\n",
    "#push the second element\n",
    "obj1.push('TWO')\n",
    "\n",
    "#show the top element\n",
    "print('Top element of the stack: {}'.format(obj1.showTopElement()))\n",
    "\n",
    "#print the size\n",
    "print('The size of the stack: {}'.format(obj1.size()))\n",
    "\n",
    "# pop the element\n",
    "print('The popped element of the stack: {}'.format(obj1.pop()))\n",
    "\n",
    "# now check the whether the stack is emtpy? \n",
    "print('Is stack empty? : {} '.format(obj1.checkEmpty()))\n",
    "\n",
    "#print the size\n",
    "print('The size of the stack: {}'.format(obj1.size()))"
   ]
  },
  {
   "cell_type": "code",
   "execution_count": null,
   "metadata": {},
   "outputs": [],
   "source": []
  }
 ],
 "metadata": {
  "kernelspec": {
   "display_name": "Python 2",
   "language": "python",
   "name": "python2"
  },
  "language_info": {
   "codemirror_mode": {
    "name": "ipython",
    "version": 2
   },
   "file_extension": ".py",
   "mimetype": "text/x-python",
   "name": "python",
   "nbconvert_exporter": "python",
   "pygments_lexer": "ipython2",
   "version": "2.7.16"
  }
 },
 "nbformat": 4,
 "nbformat_minor": 2
}
